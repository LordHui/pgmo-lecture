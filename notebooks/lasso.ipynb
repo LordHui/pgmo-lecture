{
 "cells": [
  {
   "cell_type": "code",
   "execution_count": null,
   "metadata": {},
   "outputs": [],
   "source": [
    "from IPython.core.display import display, HTML\n",
    "display(HTML(\"<style>.container { width:100% !important; }</style>\"))"
   ]
  },
  {
   "cell_type": "code",
   "execution_count": null,
   "metadata": {},
   "outputs": [],
   "source": [
    "%matplotlib notebook\n",
    "import numpy as np\n",
    "import matplotlib.pyplot as plt\n",
    "import skimage as ski\n",
    "from skimage.util import view_as_blocks as vb\n",
    "import scipy"
   ]
  },
  {
   "cell_type": "code",
   "execution_count": null,
   "metadata": {},
   "outputs": [],
   "source": [
    "def dct2(a):\n",
    "    return scipy.fftpack.dct( scipy.fftpack.dct( a, axis=0, norm='ortho' ), axis=1, norm='ortho' )\n",
    "\n",
    "def idct2(a):\n",
    "    return scipy.fftpack.idct( scipy.fftpack.idct( a, axis=0 , norm='ortho'), axis=1 , norm='ortho')"
   ]
  },
  {
   "cell_type": "code",
   "execution_count": null,
   "metadata": {},
   "outputs": [],
   "source": [
    "def DTC2_trans(w):\n",
    "    K = w*w\n",
    "    D = np.zeros((K,K))\n",
    "    idx = 0\n",
    "    for i in range(w):\n",
    "        for j in range(w):\n",
    "            x = np.zeros((w,w))            \n",
    "            x[i,j]=1\n",
    "            y = dct2(x)            \n",
    "            D[idx,:] = y.reshape(1,K)\n",
    "            idx = idx+1\n",
    "    return D"
   ]
  },
  {
   "cell_type": "code",
   "execution_count": null,
   "metadata": {},
   "outputs": [],
   "source": [
    "lamb = 0.1\n",
    "window_size = 8\n",
    "\n",
    "# load image\n",
    "g = ski.io.imread(\"stradivari.png\")/255.0\n",
    "M = (g.shape[0]//window_size)*window_size\n",
    "N = (g.shape[1]//window_size)*window_size\n",
    "g = g[:M,:N]\n",
    "\n",
    "# make DCT dictionary \n",
    "D=DTC2_trans(window_size)\n",
    "\n",
    "# generate patches\n",
    "patches = vb(g.copy(), (window_size, window_size))\n",
    "BM,BN,_,_ = patches.shape\n",
    "#print(patches.shape)\n",
    "\n",
    "patches = patches.reshape(BM*BN,window_size*window_size)\n",
    "#print(patches.shape)\n",
    "\n",
    "# compute DCT coefficients\n",
    "coeff = patches@D\n",
    "\n",
    "# softshrinkage (all, but DC component)\n",
    "coeff[:,1:] = np.maximum(0, np.abs(coeff[:,1:])-lamb)*np.sign(coeff[:,1:])\n",
    "\n",
    "# reconstruct patches\n",
    "patches = coeff@D.T\n",
    "\n",
    "# reconstruct image\n",
    "patches = patches.reshape(BM, BN,window_size, window_size)\n",
    "u = patches.transpose(0,2,1,3).reshape(BM*window_size,BN*window_size)\n",
    "\n",
    "plt.figure(1, figsize=(10,5))\n",
    "plt.imshow(u, cmap=\"gray\")\n",
    "\n",
    "#ski.io.imsave(\"stradivari_compressed.png\", u)"
   ]
  },
  {
   "cell_type": "code",
   "execution_count": null,
   "metadata": {},
   "outputs": [],
   "source": []
  }
 ],
 "metadata": {
  "kernelspec": {
   "display_name": "Python 3",
   "language": "python",
   "name": "python3"
  },
  "language_info": {
   "codemirror_mode": {
    "name": "ipython",
    "version": 3
   },
   "file_extension": ".py",
   "mimetype": "text/x-python",
   "name": "python",
   "nbconvert_exporter": "python",
   "pygments_lexer": "ipython3",
   "version": "3.7.3"
  }
 },
 "nbformat": 4,
 "nbformat_minor": 2
}
