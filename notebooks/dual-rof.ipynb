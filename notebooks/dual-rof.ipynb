{
 "cells": [
  {
   "cell_type": "code",
   "execution_count": null,
   "metadata": {},
   "outputs": [],
   "source": [
    "from IPython.core.display import display, HTML\n",
    "display(HTML(\"<style>.container { width:100% !important; }</style>\"))"
   ]
  },
  {
   "cell_type": "code",
   "execution_count": null,
   "metadata": {},
   "outputs": [],
   "source": [
    "%matplotlib notebook\n",
    "import numpy as np\n",
    "import matplotlib.pyplot as plt\n",
    "import skimage as ski\n",
    "import scipy.sparse\n",
    "import time"
   ]
  },
  {
   "cell_type": "code",
   "execution_count": null,
   "metadata": {},
   "outputs": [],
   "source": [
    "def forward_differences(M,N):\n",
    "    row = np.arange(0,M*N)\n",
    "    dat = np.ones(M*N)\n",
    "    col = np.arange(0,M*N).reshape(M,N)\n",
    "    col_xp = np.hstack([col[:,1:], col[:,-1:]])\n",
    "    col_yp = np.vstack([col[1:,:], col[-1:,:]])\n",
    "    \n",
    "    FD1 = scipy.sparse.coo_matrix((dat, (row, col_xp.flatten())), shape=(M*N, M*N))- \\\n",
    "          scipy.sparse.coo_matrix((dat, (row, col.flatten())), shape=(M*N, M*N))\n",
    "\n",
    "    FD2 = scipy.sparse.coo_matrix((dat, (row, col_yp.flatten())), shape=(M*N, M*N))- \\\n",
    "          scipy.sparse.coo_matrix((dat, (row, col.flatten())), shape=(M*N, M*N))\n",
    "    \n",
    "    FD = scipy.sparse.vstack([FD1, FD2])\n",
    "    \n",
    "    return FD"
   ]
  },
  {
   "cell_type": "code",
   "execution_count": null,
   "metadata": {},
   "outputs": [],
   "source": [
    "def proj_inf_l2(p, tau):\n",
    "    # size must be (K,N), l2 over K, inf over N\n",
    "    norm_p = np.sqrt(np.sum(p**2, axis=0, keepdims=True))\n",
    "    p /= np.maximum(1, norm_p/tau)\n",
    "    return p\n",
    "\n",
    "def proj_inf(p, tau):\n",
    "    return np.clip(p, -tau, tau)"
   ]
  },
  {
   "cell_type": "code",
   "execution_count": null,
   "metadata": {},
   "outputs": [],
   "source": [
    "# proximal gardient method for dual ROF model    \n",
    "def rof_dual_pg(d, lamb=1.0, maxit=1000, check=100, verbose=0):\n",
    "    \n",
    "    M,N = d.shape\n",
    "    d = d.reshape(M*N)\n",
    "    u = np.zeros(M*N)\n",
    "\n",
    "    # dual variable\n",
    "    p = np.zeros(M*N*2)\n",
    "\n",
    "    # make nabla operator\n",
    "    D = forward_differences(M,N)\n",
    "\n",
    "    # Lipschitz constant\n",
    "    L = 8\n",
    "    tau = 1/L\n",
    "    t0 = time.time()\n",
    "    G = []\n",
    "    for it in range(0,maxit):\n",
    "\n",
    "        # gradient step\n",
    "        p = p - tau*(D@(D.T@p-d))\n",
    "    \n",
    "        # projection\n",
    "        p = p.reshape(2,M*N)\n",
    "        p = proj_inf_l2(p,lamb)\n",
    "        p = p.reshape(2*M*N)\n",
    "    \n",
    "        # recover primal solution\n",
    "        u = d - D.T@p\n",
    "        \n",
    "        TV1 = lamb*np.sum(np.sqrt(np.sum(((D@u).reshape(2,M*N))**2, axis=0)))\n",
    "        TV2 = np.sum((D@u)*p)\n",
    "        gap = TV1 - TV2 + 0.5*np.sum((d-D.T@p-u)**2)\n",
    "        \n",
    "        G.append(gap)\n",
    "        if verbose > 0:\n",
    "            if it%check == check-1:\n",
    "                print(\"iter = \", it,\n",
    "                      \", tau = \", \"{:.3f}\".format(tau),\n",
    "                      \", time = \", \"{:.3f}\".format(time.time()-t0),\n",
    "                      \", gap = \", \"{:.3f}\".format(gap),\n",
    "                      end=\"\\r\")\n",
    "                \n",
    "    return u.reshape(M,N), p.reshape(2,M,N), np.array(G)"
   ]
  },
  {
   "cell_type": "code",
   "execution_count": null,
   "metadata": {},
   "outputs": [],
   "source": [
    "# Load image\n",
    "g = ski.io.imread(\"watercastle.png\")/255.0\n",
    "M,N = g.shape\n",
    "\n",
    "# Add noise to the image\n",
    "f = g + np.random.randn(M,N)*0.1"
   ]
  },
  {
   "cell_type": "code",
   "execution_count": null,
   "metadata": {},
   "outputs": [],
   "source": [
    "# Solve the dual ROF model using proximal gradient\n",
    "lamb_tv = 0.1\n",
    "u, p, gap = rof_dual_pg(f, maxit=1000,lamb=lamb_tv, verbose=1)"
   ]
  },
  {
   "cell_type": "code",
   "execution_count": null,
   "metadata": {
    "scrolled": false
   },
   "outputs": [],
   "source": [
    "plt.figure()\n",
    "\n",
    "plt.subplot(121)\n",
    "plt.imshow(f, cmap=\"gray\")\n",
    "\n",
    "plt.subplot(122)\n",
    "plt.imshow(u, cmap=\"gray\")"
   ]
  },
  {
   "cell_type": "code",
   "execution_count": null,
   "metadata": {},
   "outputs": [],
   "source": [
    "plt.figure()\n",
    "rate=8*np.sum(p**2)/2/np.arange(1,len(gap),1)\n",
    "plt.loglog(gap, linewidth=2.0, label=\"proximal gradient\")\n",
    "plt.loglog(rate, \"k--\", linewidth=2.0, label=r\"$O(1/k)$\")\n",
    "plt.legend()"
   ]
  },
  {
   "cell_type": "code",
   "execution_count": null,
   "metadata": {},
   "outputs": [],
   "source": [
    "# accelerated proximal gardient method for dual ROF model    \n",
    "def rof_dual_apg(d, lamb=1.0, maxit=1000, check=100, verbose=0):\n",
    "    \n",
    "    M,N = d.shape\n",
    "    d = d.reshape(M*N)\n",
    "    u = np.zeros(M*N)\n",
    "\n",
    "    # dual variable\n",
    "    p = np.zeros(M*N*2)\n",
    "    p_old = p.copy()\n",
    "\n",
    "    # make nabla operator\n",
    "    D = forward_differences(M,N)\n",
    "\n",
    "    # Lipschitz constant\n",
    "    L = 8\n",
    "    tau = 1/L\n",
    "    t0 = time.time()\n",
    "    G = []\n",
    "    tk=1.0\n",
    "    for it in range(0,maxit):\n",
    "        \n",
    "        # compute optimal overrelaxationnparameter\n",
    "        tkp=(1.0+np.sqrt(1.0+4.0*tk**2))/2.0\n",
    "        beta = (tk-1.0)/tkp\n",
    "        tk = tkp\n",
    "        \n",
    "        # compute extrapolated variable\n",
    "        p_ = p + beta*(p-p_old)\n",
    "\n",
    "        # remeber old\n",
    "        p_old = p.copy()\n",
    "        \n",
    "        # gradient step\n",
    "        p = p_ - tau*(D@(D.T@p_-d))\n",
    "    \n",
    "        # projection\n",
    "        p = p.reshape(2,M*N)\n",
    "        p = proj_inf_l2(p,lamb)\n",
    "        p = p.reshape(2*M*N)\n",
    "    \n",
    "        # recover primal solution\n",
    "        u = d - D.T@p\n",
    "        \n",
    "        TV1 = lamb*np.sum(np.sqrt(np.sum(((D@u).reshape(2,M*N))**2, axis=0)))\n",
    "        TV2 = np.sum((D@u)*p)\n",
    "        gap = TV1 - TV2 + 0.5*np.sum((d-D.T@p-u)**2)\n",
    "        \n",
    "        G.append(gap)\n",
    "        if verbose > 0:\n",
    "            if it%check == check-1:\n",
    "                print(\"iter = \", it,\n",
    "                      \", tau = \", \"{:.3f}\".format(tau),\n",
    "                      \", time = \", \"{:.3f}\".format(time.time()-t0),\n",
    "                      \", gap = \", \"{:.6f}\".format(gap),\n",
    "                      end=\"\\r\")\n",
    "                \n",
    "    return u.reshape(M,N), p.reshape(2,M,N), np.array(G)"
   ]
  },
  {
   "cell_type": "code",
   "execution_count": null,
   "metadata": {},
   "outputs": [],
   "source": [
    "# Solve the dual ROF model using accelerated proximal gradient\n",
    "lamb_tv = 0.1\n",
    "u, p, gap2 = rof_dual_apg(f, maxit=1000,lamb=lamb_tv, verbose=1)"
   ]
  },
  {
   "cell_type": "code",
   "execution_count": null,
   "metadata": {},
   "outputs": [],
   "source": [
    "rate2=2*8*np.sum(p**2)/(1+np.arange(1,len(gap),1))**2\n",
    "plt.loglog(gap2, linewidth=2.0, label=\"accelerated proximal gradient\")\n",
    "plt.loglog(rate2,\"k-.\", linewidth=2.0, label=r\"$O(1/k^2)$\")\n",
    "plt.legend()"
   ]
  },
  {
   "cell_type": "code",
   "execution_count": null,
   "metadata": {},
   "outputs": [],
   "source": []
  }
 ],
 "metadata": {
  "kernelspec": {
   "display_name": "Python 3",
   "language": "python",
   "name": "python3"
  },
  "language_info": {
   "codemirror_mode": {
    "name": "ipython",
    "version": 3
   },
   "file_extension": ".py",
   "mimetype": "text/x-python",
   "name": "python",
   "nbconvert_exporter": "python",
   "pygments_lexer": "ipython3",
   "version": "3.7.3"
  }
 },
 "nbformat": 4,
 "nbformat_minor": 2
}
