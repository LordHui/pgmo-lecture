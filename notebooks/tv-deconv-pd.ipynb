{
 "cells": [
  {
   "cell_type": "code",
   "execution_count": null,
   "metadata": {},
   "outputs": [],
   "source": [
    "from IPython.core.display import display, HTML\n",
    "display(HTML(\"<style>.container { width:100% !important; }</style>\"))"
   ]
  },
  {
   "cell_type": "code",
   "execution_count": null,
   "metadata": {},
   "outputs": [],
   "source": [
    "%matplotlib notebook\n",
    "import numpy as np\n",
    "import matplotlib.pyplot as plt\n",
    "import skimage as ski\n",
    "import scipy.sparse\n",
    "from scipy import signal\n",
    "import time"
   ]
  },
  {
   "cell_type": "code",
   "execution_count": null,
   "metadata": {},
   "outputs": [],
   "source": [
    "u = np.ones((20,20))\n",
    "print(np.linalg.norm(u.ravel()))\n",
    "uf = np.fft.fft2(u, norm=\"ortho\")\n",
    "print(np.linalg.norm(uf.ravel()))"
   ]
  },
  {
   "cell_type": "code",
   "execution_count": null,
   "metadata": {},
   "outputs": [],
   "source": [
    "def forward_differences(M,N):\n",
    "    row = np.arange(0,M*N)\n",
    "    dat = np.ones(M*N)\n",
    "    col = np.arange(0,M*N).reshape(M,N)\n",
    "    col_xp = np.hstack([col[:,1:], col[:,-1:]])\n",
    "    col_yp = np.vstack([col[1:,:], col[-1:,:]])\n",
    "    \n",
    "    FD1 = scipy.sparse.coo_matrix((dat, (row, col_xp.flatten())), shape=(M*N, M*N))- \\\n",
    "          scipy.sparse.coo_matrix((dat, (row, col.flatten())), shape=(M*N, M*N))\n",
    "\n",
    "    FD2 = scipy.sparse.coo_matrix((dat, (row, col_yp.flatten())), shape=(M*N, M*N))- \\\n",
    "          scipy.sparse.coo_matrix((dat, (row, col.flatten())), shape=(M*N, M*N))\n",
    "    \n",
    "    FD = scipy.sparse.vstack([FD1, FD2])\n",
    "    \n",
    "    return FD"
   ]
  },
  {
   "cell_type": "code",
   "execution_count": null,
   "metadata": {},
   "outputs": [],
   "source": [
    "def prox_conv_fft(uf, ff, kernelf, tau):    \n",
    "    kernelf_conj = np.conj(kernelf)\n",
    "    return (uf + tau*kernelf_conj*ff)/(1+tau*kernelf_conj*kernelf)\n",
    "        \n",
    "def proj_inf_l2(p, tau):\n",
    "    # size must be (K,N), l2 over K, inf over N\n",
    "    norm_p = np.sqrt(np.sum(p**2, axis=0, keepdims=True))\n",
    "    p /= np.maximum(1, norm_p/tau)\n",
    "    return p\n",
    "\n",
    "def proj_inf(p, tau):\n",
    "    return np.clip(p, -tau, tau)"
   ]
  },
  {
   "cell_type": "code",
   "execution_count": null,
   "metadata": {},
   "outputs": [],
   "source": [
    "# primal dual for deconvolution\n",
    "def tv_deconv_pd(d, kernel, lamb=1.0, maxit=1000, check=100, verbose=0):\n",
    "    \n",
    "    M,N = d.shape\n",
    "    u = d.copy()\n",
    "    df = np.fft.fft2(d, norm=\"ortho\")\n",
    "    kernelf = np.fft.fft2(kernel)\n",
    "    \n",
    "    u = u.reshape(M*N)\n",
    "    \n",
    "    # dual variable\n",
    "    p = np.zeros(M*N*2)\n",
    "\n",
    "    # make nabla operator\n",
    "    D = forward_differences(M,N)\n",
    "\n",
    "    # primal and dual step size\n",
    "    # tau * sigma * L^2 = 1\n",
    "    L = np.sqrt(8)\n",
    "    tau = 1/L\n",
    "    sigma = 1/tau/L**2\n",
    "    theta = 1.0\n",
    "    \n",
    "    t0 = time.time()\n",
    "    E = []\n",
    "    for it in range(0,maxit):\n",
    "\n",
    "        # remeber old\n",
    "        u_ = u.copy()\n",
    "\n",
    "        # primal update        \n",
    "        u -= tau*(D.T@p)\n",
    "        \n",
    "        # proximal step\n",
    "        uf = np.fft.fft2(u.reshape(M,N), norm=\"ortho\")\n",
    "        uf = prox_conv_fft(uf, df, kernelf, tau)\n",
    "        u = np.real(np.fft.ifft2(uf, norm=\"ortho\")).reshape(M*N)\n",
    "    \n",
    "        # overrelaxation\n",
    "        u_ = u + theta*(u-u_)\n",
    "        \n",
    "        # dual update\n",
    "        p += sigma*(D@u_)\n",
    "\n",
    "        # projection\n",
    "        p = p.reshape(2,M*N)\n",
    "        p = proj_inf_l2(p, lamb)\n",
    "        p = p.reshape(2*M*N)\n",
    "        \n",
    "        TV1 = lamb*np.sum(np.sqrt(np.sum(((D@u).reshape(2,M*N))**2, axis=0)))\n",
    "        energy = TV1 + 0.5*np.sum((np.real(np.fft.ifft2(uf*kernelf, norm=\"ortho\"))-d)**2)\n",
    "        E.append(energy)\n",
    "        if verbose > 0:\n",
    "            if it%check == check-1:\n",
    "                \n",
    "\n",
    "                print(\"iter = \", it,\n",
    "                      \", tau = \", \"{:.3f}\".format(tau),\n",
    "                      \", sigma = \", \"{:.3f}\".format(sigma),\n",
    "                      \", time = \", \"{:.3f}\".format(time.time()-t0),\n",
    "                      \", E = \", \"{:.6f}\".format(energy),\n",
    "                      end=\"\\r\")\n",
    "                \n",
    "    return u.reshape(M,N), p.reshape(2,M,N), np.array(E)"
   ]
  },
  {
   "cell_type": "code",
   "execution_count": null,
   "metadata": {},
   "outputs": [],
   "source": [
    "def make_motion_blur(N_k):\n",
    "    y,x = np.meshgrid(np.arange(-N_k//2+1, N_k//2+1, 1), np.arange(-N_k//2+1, N_k//2+1, 1))\n",
    "\n",
    "    v1 = np.array([1., 1.])\n",
    "    v1 /= np.linalg.norm(v1)\n",
    "    sigma_1 = 1.0\n",
    "    \n",
    "    v2 = v1.copy()\n",
    "    v2[0] = v1[1]\n",
    "    v2[1] = -v1[0]\n",
    "    sigma_2 = 10.0\n",
    "\n",
    "    Sigma = np.outer(v1,v1)/sigma_1**2 + np.outer(v2,v2)/sigma_2**2\n",
    "\n",
    "    q = x**2*Sigma[0,0]/2 + x*y*Sigma[0,1] + y**2*Sigma[1,1]/2\n",
    "    kernel = np.exp(-q)\n",
    "    kernel /= kernel.sum()\n",
    "    \n",
    "    return kernel"
   ]
  },
  {
   "cell_type": "code",
   "execution_count": null,
   "metadata": {
    "scrolled": false
   },
   "outputs": [],
   "source": [
    "# Load image\n",
    "g = ski.io.imread(\"watercastle.png\")/255.0\n",
    "M,N = g.shape\n",
    "\n",
    "# construct blur kernel\n",
    "N_k = 15\n",
    "kernel = make_motion_blur(N_k)\n",
    "\n",
    "#plt.figure()\n",
    "#plt.imshow(kernel, cmap=\"gray\")\n",
    "\n",
    "kernel_full = np.zeros_like(g)\n",
    "kernel_full[:N_k, :N_k] = kernel\n",
    "kernel_full = np.roll(kernel_full, -N_k//2+1, axis=(0,1))\n",
    "\n",
    "#plt.figure()\n",
    "#plt.imshow(kernel_full, cmap=\"gray\")\n",
    "\n",
    "gf = np.fft.fft2(g, norm=\"ortho\")\n",
    "kernelf = np.fft.fft2(kernel_full)\n",
    "f = np.real(np.fft.ifft2(gf*kernelf, norm=\"ortho\"))\n",
    "\n",
    "f = f + np.random.randn(M,N)*0.01\n",
    "\n",
    "#plt.figure()\n",
    "#plt.imshow(f, cmap=\"gray\")"
   ]
  },
  {
   "cell_type": "code",
   "execution_count": null,
   "metadata": {},
   "outputs": [],
   "source": [
    "# Solve the dual ROF model using accelerated primal-dual\n",
    "lamb_tv = 0.0005\n",
    "u, p, energy = tv_deconv_pd(f, kernel_full, maxit=2000, check=100, lamb=lamb_tv, verbose=1)"
   ]
  },
  {
   "cell_type": "code",
   "execution_count": null,
   "metadata": {},
   "outputs": [],
   "source": [
    "plt.figure()\n",
    "plt.subplot(121)\n",
    "plt.imshow(f, cmap=\"gray\")\n",
    "\n",
    "plt.subplot(122)\n",
    "plt.imshow(u, cmap=\"gray\")"
   ]
  },
  {
   "cell_type": "code",
   "execution_count": null,
   "metadata": {},
   "outputs": [],
   "source": []
  }
 ],
 "metadata": {
  "kernelspec": {
   "display_name": "Python 3",
   "language": "python",
   "name": "python3"
  },
  "language_info": {
   "codemirror_mode": {
    "name": "ipython",
    "version": 3
   },
   "file_extension": ".py",
   "mimetype": "text/x-python",
   "name": "python",
   "nbconvert_exporter": "python",
   "pygments_lexer": "ipython3",
   "version": "3.7.3"
  }
 },
 "nbformat": 4,
 "nbformat_minor": 2
}
