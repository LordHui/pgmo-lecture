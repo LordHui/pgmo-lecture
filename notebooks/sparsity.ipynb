{
 "cells": [
  {
   "cell_type": "code",
   "execution_count": null,
   "metadata": {},
   "outputs": [],
   "source": [
    "from IPython.core.display import display, HTML\n",
    "display(HTML(\"<style>.container { width:100% !important; }</style>\"))"
   ]
  },
  {
   "cell_type": "code",
   "execution_count": null,
   "metadata": {},
   "outputs": [],
   "source": [
    "%matplotlib notebook\n",
    "import numpy as np\n",
    "import matplotlib.pyplot as plt"
   ]
  },
  {
   "cell_type": "code",
   "execution_count": null,
   "metadata": {},
   "outputs": [],
   "source": [
    "def solve_basis_pursuit(A, b, maxit=100000, tol=1e-03):\n",
    "    \n",
    "    M,N = A.shape\n",
    "    \n",
    "    tau = 1/np.sum(np.abs(A), axis=0)\n",
    "    sigma = 1/np.sum(np.abs(A), axis=1)\n",
    "    \n",
    "    y = np.zeros(N)\n",
    "    z = np.zeros(M)\n",
    "\n",
    "    for it in range(maxit):\n",
    "        y_ = y.copy()\n",
    "        y = y - tau*(A.T@z)\n",
    "        y = np.maximum(0, np.abs(y) - tau)*np.sign(y)\n",
    "        y_ = 2*y-y_\n",
    "    \n",
    "        z = z + sigma*(A@y_-b)\n",
    "    \n",
    "        if np.linalg.norm(A@y-b) < tol:\n",
    "            break\n",
    "\n",
    "    print(\"it = \", it, \", feasibility = \", np.linalg.norm(A@y-b))\n",
    "    return y"
   ]
  },
  {
   "cell_type": "code",
   "execution_count": null,
   "metadata": {},
   "outputs": [],
   "source": [
    "np.random.seed(100)\n",
    "\n",
    "# length of the signal\n",
    "n = 100\n",
    "\n",
    "# sparsity\n",
    "s = 10\n",
    "\n",
    "# generate sparse vector\n",
    "x = np.zeros(n)\n",
    "idx = np.arange(0,n,1)\n",
    "r = np.random.choice(idx, s, replace=False)\n",
    "x[r[:s//2]] = +1\n",
    "x[r[s//2:]] = -1\n",
    "\n",
    "#plt.figure(figsize=(8,3))\n",
    "#plt.stem(x, use_line_collection=True)\n",
    "\n",
    "# Generate measurement matrix\n",
    "A_full = np.random.rand(n,n)"
   ]
  },
  {
   "cell_type": "code",
   "execution_count": null,
   "metadata": {},
   "outputs": [],
   "source": [
    "# number of measurements\n",
    "m = 30\n",
    "\n",
    "# generate measurement matrix\n",
    "A = A_full[:m,:]\n",
    "\n",
    "# make measurement vector\n",
    "b = A@x\n",
    "\n",
    "# compute L2 solution using the pseudo inverse\n",
    "y_l2 = np.linalg.pinv(A)@b\n",
    "\n",
    "# compute L1 solution using l1 minimization\n",
    "y_l1 = solve_basis_pursuit(A,b)\n",
    "\n",
    "# PLot the results\n",
    "fig=plt.figure(figsize=(10,5))\n",
    "plt.subplot(311), plt.stem(x, use_line_collection=True, label=r\"$x^*$\")\n",
    "plt.legend()\n",
    "plt.subplot(312), plt.stem(y_l2, use_line_collection=True, label=r\"$\\ell_2$\")\n",
    "plt.legend()\n",
    "plt.subplot(313), plt.stem(y_l1, use_line_collection=True, label =r\"$\\ell_1$\")\n",
    "plt.legend()\n",
    "fig.savefig(\"l1_l2.pdf\", bbox_inches='tight')"
   ]
  }
 ],
 "metadata": {
  "kernelspec": {
   "display_name": "Python 3",
   "language": "python",
   "name": "python3"
  },
  "language_info": {
   "codemirror_mode": {
    "name": "ipython",
    "version": 3
   },
   "file_extension": ".py",
   "mimetype": "text/x-python",
   "name": "python",
   "nbconvert_exporter": "python",
   "pygments_lexer": "ipython3",
   "version": "3.7.3"
  }
 },
 "nbformat": 4,
 "nbformat_minor": 2
}
